{
 "cells": [
  {
   "cell_type": "code",
   "execution_count": 167,
   "id": "73a9c1c0",
   "metadata": {},
   "outputs": [],
   "source": [
    "# Required Libraries\n",
    "import pandas as pd\n",
    "import numpy as np\n",
    "import matplotlib.pyplot as plt\n",
    "import seaborn as sns\n",
    "from statsmodels.tsa.arima.model import ARIMA\n",
    "from sklearn.linear_model import LinearRegression\n",
    "from sklearn.metrics import mean_squared_error, mean_absolute_error, r2_score, accuracy_score\n",
    "from sklearn.model_selection import train_test_split, GridSearchCV\n",
    "from sklearn.ensemble import RandomForestRegressor\n",
    "import tensorflow as tf\n",
    "from tensorflow.keras.models import Sequential\n",
    "from tensorflow.keras.layers import Dense, Dropout\n",
    "from tensorflow.keras.callbacks import EarlyStopping\n",
    "\n",
    "import warnings\n",
    "warnings.filterwarnings(\"ignore\")"
   ]
  },
  {
   "cell_type": "code",
   "execution_count": 168,
   "id": "4f58c7cd",
   "metadata": {},
   "outputs": [],
   "source": [
    "df = pd.read_csv(\"Aluminium 25 years Quarterly.csv\")"
   ]
  },
  {
   "cell_type": "code",
   "execution_count": 169,
   "id": "965afa6e",
   "metadata": {
    "scrolled": true
   },
   "outputs": [
    {
     "data": {
      "text/html": [
       "<div>\n",
       "<style scoped>\n",
       "    .dataframe tbody tr th:only-of-type {\n",
       "        vertical-align: middle;\n",
       "    }\n",
       "\n",
       "    .dataframe tbody tr th {\n",
       "        vertical-align: top;\n",
       "    }\n",
       "\n",
       "    .dataframe thead th {\n",
       "        text-align: right;\n",
       "    }\n",
       "</style>\n",
       "<table border=\"1\" class=\"dataframe\">\n",
       "  <thead>\n",
       "    <tr style=\"text-align: right;\">\n",
       "      <th></th>\n",
       "      <th>DATE</th>\n",
       "      <th>PALUMUSDQ</th>\n",
       "    </tr>\n",
       "  </thead>\n",
       "  <tbody>\n",
       "    <tr>\n",
       "      <th>0</th>\n",
       "      <td>1999-04-01</td>\n",
       "      <td>1305.501435</td>\n",
       "    </tr>\n",
       "    <tr>\n",
       "      <th>1</th>\n",
       "      <td>1999-07-01</td>\n",
       "      <td>1439.040765</td>\n",
       "    </tr>\n",
       "    <tr>\n",
       "      <th>2</th>\n",
       "      <td>1999-10-01</td>\n",
       "      <td>1500.166815</td>\n",
       "    </tr>\n",
       "    <tr>\n",
       "      <th>3</th>\n",
       "      <td>2000-01-01</td>\n",
       "      <td>1646.305000</td>\n",
       "    </tr>\n",
       "    <tr>\n",
       "      <th>4</th>\n",
       "      <td>2000-04-01</td>\n",
       "      <td>1478.727648</td>\n",
       "    </tr>\n",
       "  </tbody>\n",
       "</table>\n",
       "</div>"
      ],
      "text/plain": [
       "         DATE    PALUMUSDQ\n",
       "0  1999-04-01  1305.501435\n",
       "1  1999-07-01  1439.040765\n",
       "2  1999-10-01  1500.166815\n",
       "3  2000-01-01  1646.305000\n",
       "4  2000-04-01  1478.727648"
      ]
     },
     "execution_count": 169,
     "metadata": {},
     "output_type": "execute_result"
    }
   ],
   "source": [
    "df.head(5)"
   ]
  },
  {
   "cell_type": "code",
   "execution_count": 170,
   "id": "5e6865aa",
   "metadata": {},
   "outputs": [
    {
     "data": {
      "text/html": [
       "<div>\n",
       "<style scoped>\n",
       "    .dataframe tbody tr th:only-of-type {\n",
       "        vertical-align: middle;\n",
       "    }\n",
       "\n",
       "    .dataframe tbody tr th {\n",
       "        vertical-align: top;\n",
       "    }\n",
       "\n",
       "    .dataframe thead th {\n",
       "        text-align: right;\n",
       "    }\n",
       "</style>\n",
       "<table border=\"1\" class=\"dataframe\">\n",
       "  <thead>\n",
       "    <tr style=\"text-align: right;\">\n",
       "      <th></th>\n",
       "      <th>DATE</th>\n",
       "      <th>PALUMUSDQ</th>\n",
       "    </tr>\n",
       "  </thead>\n",
       "  <tbody>\n",
       "    <tr>\n",
       "      <th>96</th>\n",
       "      <td>2023-04-01</td>\n",
       "      <td>2265.632415</td>\n",
       "    </tr>\n",
       "    <tr>\n",
       "      <th>97</th>\n",
       "      <td>2023-07-01</td>\n",
       "      <td>2159.995977</td>\n",
       "    </tr>\n",
       "    <tr>\n",
       "      <th>98</th>\n",
       "      <td>2023-10-01</td>\n",
       "      <td>2196.217201</td>\n",
       "    </tr>\n",
       "    <tr>\n",
       "      <th>99</th>\n",
       "      <td>2024-01-01</td>\n",
       "      <td>2203.488523</td>\n",
       "    </tr>\n",
       "    <tr>\n",
       "      <th>100</th>\n",
       "      <td>2024-04-01</td>\n",
       "      <td>2521.050792</td>\n",
       "    </tr>\n",
       "  </tbody>\n",
       "</table>\n",
       "</div>"
      ],
      "text/plain": [
       "           DATE    PALUMUSDQ\n",
       "96   2023-04-01  2265.632415\n",
       "97   2023-07-01  2159.995977\n",
       "98   2023-10-01  2196.217201\n",
       "99   2024-01-01  2203.488523\n",
       "100  2024-04-01  2521.050792"
      ]
     },
     "execution_count": 170,
     "metadata": {},
     "output_type": "execute_result"
    }
   ],
   "source": [
    "df.tail()"
   ]
  },
  {
   "cell_type": "code",
   "execution_count": 171,
   "id": "1c31c5af",
   "metadata": {},
   "outputs": [],
   "source": [
    "# Renaming columns\n",
    "df = df.rename(columns = {'DATE': 'YEAR', 'PALUMUSDQ': 'PRICE IN DOLLARS PER METRIC TONS'})"
   ]
  },
  {
   "cell_type": "code",
   "execution_count": 172,
   "id": "4fbbab5d",
   "metadata": {},
   "outputs": [
    {
     "data": {
      "text/html": [
       "<div>\n",
       "<style scoped>\n",
       "    .dataframe tbody tr th:only-of-type {\n",
       "        vertical-align: middle;\n",
       "    }\n",
       "\n",
       "    .dataframe tbody tr th {\n",
       "        vertical-align: top;\n",
       "    }\n",
       "\n",
       "    .dataframe thead th {\n",
       "        text-align: right;\n",
       "    }\n",
       "</style>\n",
       "<table border=\"1\" class=\"dataframe\">\n",
       "  <thead>\n",
       "    <tr style=\"text-align: right;\">\n",
       "      <th></th>\n",
       "      <th>YEAR</th>\n",
       "      <th>PRICE IN DOLLARS PER METRIC TONS</th>\n",
       "    </tr>\n",
       "  </thead>\n",
       "  <tbody>\n",
       "    <tr>\n",
       "      <th>0</th>\n",
       "      <td>1999-04-01</td>\n",
       "      <td>1305.501435</td>\n",
       "    </tr>\n",
       "    <tr>\n",
       "      <th>1</th>\n",
       "      <td>1999-07-01</td>\n",
       "      <td>1439.040765</td>\n",
       "    </tr>\n",
       "    <tr>\n",
       "      <th>2</th>\n",
       "      <td>1999-10-01</td>\n",
       "      <td>1500.166815</td>\n",
       "    </tr>\n",
       "    <tr>\n",
       "      <th>3</th>\n",
       "      <td>2000-01-01</td>\n",
       "      <td>1646.305000</td>\n",
       "    </tr>\n",
       "    <tr>\n",
       "      <th>4</th>\n",
       "      <td>2000-04-01</td>\n",
       "      <td>1478.727648</td>\n",
       "    </tr>\n",
       "  </tbody>\n",
       "</table>\n",
       "</div>"
      ],
      "text/plain": [
       "         YEAR  PRICE IN DOLLARS PER METRIC TONS\n",
       "0  1999-04-01                       1305.501435\n",
       "1  1999-07-01                       1439.040765\n",
       "2  1999-10-01                       1500.166815\n",
       "3  2000-01-01                       1646.305000\n",
       "4  2000-04-01                       1478.727648"
      ]
     },
     "execution_count": 172,
     "metadata": {},
     "output_type": "execute_result"
    }
   ],
   "source": [
    "df.head()"
   ]
  },
  {
   "cell_type": "code",
   "execution_count": 173,
   "id": "a12dd554",
   "metadata": {},
   "outputs": [],
   "source": [
    "# # Convert 'Year' to datetime and set it as the index\n",
    "# df['YEAR'] = pd.to_datetime(df['YEAR'])\n",
    "# df.set_index('YEAR', inplace=True)\n",
    "\n",
    "# Convert 'YEAR' column to datetime\n",
    "df['YEAR'] = pd.to_datetime(df['YEAR'], errors='coerce')\n",
    "\n",
    "# Extract the year as a numeric feature\n",
    "df['YEAR_NUM'] = df['YEAR'].dt.year\n"
   ]
  },
  {
   "cell_type": "code",
   "execution_count": 174,
   "id": "ed6f02fe",
   "metadata": {},
   "outputs": [
    {
     "name": "stdout",
     "output_type": "stream",
     "text": [
      "        YEAR  PRICE IN DOLLARS PER METRIC TONS  YEAR_NUM\n",
      "0 1999-04-01                         -1.494359      1999\n",
      "1 1999-07-01                         -1.193158      1999\n",
      "2 1999-10-01                         -1.055287      1999\n",
      "3 2000-01-01                         -0.725670      2000\n",
      "4 2000-04-01                         -1.103644      2000\n"
     ]
    }
   ],
   "source": [
    "# Feature Scaling\n",
    "from sklearn.preprocessing import StandardScaler\n",
    "\n",
    "# Initialize the scaler\n",
    "scaler = StandardScaler()\n",
    "\n",
    "# Reshape the column to 2D and apply scaling\n",
    "df['PRICE IN DOLLARS PER METRIC TONS'] = scaler.fit_transform(df['PRICE IN DOLLARS PER METRIC TONS'].values.reshape(-1, 1))\n",
    "\n",
    "# Use ravel() to flatten the scaled data back to 1D\n",
    "df['PRICE IN DOLLARS PER METRIC TONS'] = df['PRICE IN DOLLARS PER METRIC TONS'].values.ravel()\n",
    "\n",
    "# Now the 'PRICE IN DOLLARS' column is scaled\n",
    "print(df.head())"
   ]
  },
  {
   "cell_type": "code",
   "execution_count": 175,
   "id": "3f96190b",
   "metadata": {},
   "outputs": [
    {
     "name": "stdout",
     "output_type": "stream",
     "text": [
      "Detected outliers:\n",
      "          YEAR  PRICE IN DOLLARS PER METRIC TONS  YEAR_NUM\n",
      "91 2022-01-01                          2.891601      2022\n"
     ]
    }
   ],
   "source": [
    "# Checking for outliers\n",
    "\n",
    "def detect_outliers_iqr(df, column_name):\n",
    "    Q1 = df[column_name].quantile(0.25)\n",
    "    Q3 = df[column_name].quantile(0.75)\n",
    "    IQR = Q3 - Q1\n",
    "    \n",
    "    lower_bound = Q1 - 1.5 * IQR\n",
    "    upper_bound = Q3 + 1.5 * IQR\n",
    "    \n",
    "    # Detecting outliers\n",
    "    outliers = df[(df[column_name] < lower_bound) | (df[column_name] > upper_bound)]\n",
    "    return outliers, lower_bound, upper_bound\n",
    "\n",
    "# Example usage\n",
    "outliers, lower_bound, upper_bound = detect_outliers_iqr(df, 'PRICE IN DOLLARS PER METRIC TONS')\n",
    "print(\"Detected outliers:\\n\", outliers)"
   ]
  },
  {
   "cell_type": "code",
   "execution_count": 176,
   "id": "8fd2ddaf",
   "metadata": {},
   "outputs": [
    {
     "name": "stdout",
     "output_type": "stream",
     "text": [
      "DataFrame size after removing outliers: (100, 3)\n"
     ]
    }
   ],
   "source": [
    "# Removing outliers\n",
    "df = df[~df['PRICE IN DOLLARS PER METRIC TONS'].isin(outliers['PRICE IN DOLLARS PER METRIC TONS'])]\n",
    "print(f\"DataFrame size after removing outliers: {df.shape}\")"
   ]
  },
  {
   "cell_type": "code",
   "execution_count": 177,
   "id": "316886b0",
   "metadata": {
    "scrolled": true
   },
   "outputs": [
    {
     "data": {
      "text/html": [
       "<div>\n",
       "<style scoped>\n",
       "    .dataframe tbody tr th:only-of-type {\n",
       "        vertical-align: middle;\n",
       "    }\n",
       "\n",
       "    .dataframe tbody tr th {\n",
       "        vertical-align: top;\n",
       "    }\n",
       "\n",
       "    .dataframe thead th {\n",
       "        text-align: right;\n",
       "    }\n",
       "</style>\n",
       "<table border=\"1\" class=\"dataframe\">\n",
       "  <thead>\n",
       "    <tr style=\"text-align: right;\">\n",
       "      <th></th>\n",
       "      <th>YEAR</th>\n",
       "      <th>PRICE IN DOLLARS PER METRIC TONS</th>\n",
       "      <th>YEAR_NUM</th>\n",
       "    </tr>\n",
       "  </thead>\n",
       "  <tbody>\n",
       "    <tr>\n",
       "      <th>0</th>\n",
       "      <td>1999-04-01</td>\n",
       "      <td>-1.494359</td>\n",
       "      <td>1999</td>\n",
       "    </tr>\n",
       "    <tr>\n",
       "      <th>1</th>\n",
       "      <td>1999-07-01</td>\n",
       "      <td>-1.193158</td>\n",
       "      <td>1999</td>\n",
       "    </tr>\n",
       "    <tr>\n",
       "      <th>2</th>\n",
       "      <td>1999-10-01</td>\n",
       "      <td>-1.055287</td>\n",
       "      <td>1999</td>\n",
       "    </tr>\n",
       "    <tr>\n",
       "      <th>3</th>\n",
       "      <td>2000-01-01</td>\n",
       "      <td>-0.725670</td>\n",
       "      <td>2000</td>\n",
       "    </tr>\n",
       "    <tr>\n",
       "      <th>4</th>\n",
       "      <td>2000-04-01</td>\n",
       "      <td>-1.103644</td>\n",
       "      <td>2000</td>\n",
       "    </tr>\n",
       "  </tbody>\n",
       "</table>\n",
       "</div>"
      ],
      "text/plain": [
       "        YEAR  PRICE IN DOLLARS PER METRIC TONS  YEAR_NUM\n",
       "0 1999-04-01                         -1.494359      1999\n",
       "1 1999-07-01                         -1.193158      1999\n",
       "2 1999-10-01                         -1.055287      1999\n",
       "3 2000-01-01                         -0.725670      2000\n",
       "4 2000-04-01                         -1.103644      2000"
      ]
     },
     "execution_count": 177,
     "metadata": {},
     "output_type": "execute_result"
    }
   ],
   "source": [
    "df.head()"
   ]
  },
  {
   "cell_type": "code",
   "execution_count": 178,
   "id": "e1ae4a5f",
   "metadata": {},
   "outputs": [
    {
     "name": "stdout",
     "output_type": "stream",
     "text": [
      "Index(['YEAR', 'PRICE IN DOLLARS PER METRIC TONS', 'YEAR_NUM'], dtype='object')\n"
     ]
    }
   ],
   "source": [
    "print(df.columns)"
   ]
  },
  {
   "cell_type": "code",
   "execution_count": 179,
   "id": "db247098",
   "metadata": {
    "scrolled": true
   },
   "outputs": [],
   "source": [
    "# Split the data into features (X) and target (y)\n",
    "X = df[['YEAR_NUM']]  # Use the numeric year column\n",
    "y = df['PRICE IN DOLLARS PER METRIC TONS']  # Target variable"
   ]
  },
  {
   "cell_type": "code",
   "execution_count": 180,
   "id": "004f8fa5",
   "metadata": {},
   "outputs": [],
   "source": [
    "# Split the data into train and test sets\n",
    "X_train, X_test, y_train, y_test = train_test_split(X, y, test_size=0.2, random_state=42)"
   ]
  },
  {
   "cell_type": "code",
   "execution_count": 181,
   "id": "c0e823f0",
   "metadata": {},
   "outputs": [],
   "source": [
    "# Define the parameter grid for RandomForestRegressor\n",
    "param_grid = {\n",
    "    'n_estimators': [100, 200, 300],\n",
    "    'max_depth': [10, 20, 30],\n",
    "    'min_samples_split': [2, 5, 10]\n",
    "}\n"
   ]
  },
  {
   "cell_type": "code",
   "execution_count": 182,
   "id": "6c850f8e",
   "metadata": {},
   "outputs": [],
   "source": [
    "# Initialize the RandomForestRegressor model\n",
    "model = RandomForestRegressor(random_state=42)"
   ]
  },
  {
   "cell_type": "code",
   "execution_count": 183,
   "id": "7a9bb18a",
   "metadata": {},
   "outputs": [],
   "source": [
    "# Create the GridSearchCV object\n",
    "grid_search = GridSearchCV(estimator=model, param_grid=param_grid, cv=5, scoring='neg_mean_squared_error')"
   ]
  },
  {
   "cell_type": "code",
   "execution_count": 184,
   "id": "b42fda32",
   "metadata": {},
   "outputs": [
    {
     "data": {
      "text/html": [
       "<style>#sk-container-id-4 {color: black;}#sk-container-id-4 pre{padding: 0;}#sk-container-id-4 div.sk-toggleable {background-color: white;}#sk-container-id-4 label.sk-toggleable__label {cursor: pointer;display: block;width: 100%;margin-bottom: 0;padding: 0.3em;box-sizing: border-box;text-align: center;}#sk-container-id-4 label.sk-toggleable__label-arrow:before {content: \"▸\";float: left;margin-right: 0.25em;color: #696969;}#sk-container-id-4 label.sk-toggleable__label-arrow:hover:before {color: black;}#sk-container-id-4 div.sk-estimator:hover label.sk-toggleable__label-arrow:before {color: black;}#sk-container-id-4 div.sk-toggleable__content {max-height: 0;max-width: 0;overflow: hidden;text-align: left;background-color: #f0f8ff;}#sk-container-id-4 div.sk-toggleable__content pre {margin: 0.2em;color: black;border-radius: 0.25em;background-color: #f0f8ff;}#sk-container-id-4 input.sk-toggleable__control:checked~div.sk-toggleable__content {max-height: 200px;max-width: 100%;overflow: auto;}#sk-container-id-4 input.sk-toggleable__control:checked~label.sk-toggleable__label-arrow:before {content: \"▾\";}#sk-container-id-4 div.sk-estimator input.sk-toggleable__control:checked~label.sk-toggleable__label {background-color: #d4ebff;}#sk-container-id-4 div.sk-label input.sk-toggleable__control:checked~label.sk-toggleable__label {background-color: #d4ebff;}#sk-container-id-4 input.sk-hidden--visually {border: 0;clip: rect(1px 1px 1px 1px);clip: rect(1px, 1px, 1px, 1px);height: 1px;margin: -1px;overflow: hidden;padding: 0;position: absolute;width: 1px;}#sk-container-id-4 div.sk-estimator {font-family: monospace;background-color: #f0f8ff;border: 1px dotted black;border-radius: 0.25em;box-sizing: border-box;margin-bottom: 0.5em;}#sk-container-id-4 div.sk-estimator:hover {background-color: #d4ebff;}#sk-container-id-4 div.sk-parallel-item::after {content: \"\";width: 100%;border-bottom: 1px solid gray;flex-grow: 1;}#sk-container-id-4 div.sk-label:hover label.sk-toggleable__label {background-color: #d4ebff;}#sk-container-id-4 div.sk-serial::before {content: \"\";position: absolute;border-left: 1px solid gray;box-sizing: border-box;top: 0;bottom: 0;left: 50%;z-index: 0;}#sk-container-id-4 div.sk-serial {display: flex;flex-direction: column;align-items: center;background-color: white;padding-right: 0.2em;padding-left: 0.2em;position: relative;}#sk-container-id-4 div.sk-item {position: relative;z-index: 1;}#sk-container-id-4 div.sk-parallel {display: flex;align-items: stretch;justify-content: center;background-color: white;position: relative;}#sk-container-id-4 div.sk-item::before, #sk-container-id-4 div.sk-parallel-item::before {content: \"\";position: absolute;border-left: 1px solid gray;box-sizing: border-box;top: 0;bottom: 0;left: 50%;z-index: -1;}#sk-container-id-4 div.sk-parallel-item {display: flex;flex-direction: column;z-index: 1;position: relative;background-color: white;}#sk-container-id-4 div.sk-parallel-item:first-child::after {align-self: flex-end;width: 50%;}#sk-container-id-4 div.sk-parallel-item:last-child::after {align-self: flex-start;width: 50%;}#sk-container-id-4 div.sk-parallel-item:only-child::after {width: 0;}#sk-container-id-4 div.sk-dashed-wrapped {border: 1px dashed gray;margin: 0 0.4em 0.5em 0.4em;box-sizing: border-box;padding-bottom: 0.4em;background-color: white;}#sk-container-id-4 div.sk-label label {font-family: monospace;font-weight: bold;display: inline-block;line-height: 1.2em;}#sk-container-id-4 div.sk-label-container {text-align: center;}#sk-container-id-4 div.sk-container {/* jupyter's `normalize.less` sets `[hidden] { display: none; }` but bootstrap.min.css set `[hidden] { display: none !important; }` so we also need the `!important` here to be able to override the default hidden behavior on the sphinx rendered scikit-learn.org. See: https://github.com/scikit-learn/scikit-learn/issues/21755 */display: inline-block !important;position: relative;}#sk-container-id-4 div.sk-text-repr-fallback {display: none;}</style><div id=\"sk-container-id-4\" class=\"sk-top-container\"><div class=\"sk-text-repr-fallback\"><pre>GridSearchCV(cv=5, estimator=RandomForestRegressor(random_state=42),\n",
       "             param_grid={&#x27;max_depth&#x27;: [10, 20, 30],\n",
       "                         &#x27;min_samples_split&#x27;: [2, 5, 10],\n",
       "                         &#x27;n_estimators&#x27;: [100, 200, 300]},\n",
       "             scoring=&#x27;neg_mean_squared_error&#x27;)</pre><b>In a Jupyter environment, please rerun this cell to show the HTML representation or trust the notebook. <br />On GitHub, the HTML representation is unable to render, please try loading this page with nbviewer.org.</b></div><div class=\"sk-container\" hidden><div class=\"sk-item sk-dashed-wrapped\"><div class=\"sk-label-container\"><div class=\"sk-label sk-toggleable\"><input class=\"sk-toggleable__control sk-hidden--visually\" id=\"sk-estimator-id-8\" type=\"checkbox\" ><label for=\"sk-estimator-id-8\" class=\"sk-toggleable__label sk-toggleable__label-arrow\">GridSearchCV</label><div class=\"sk-toggleable__content\"><pre>GridSearchCV(cv=5, estimator=RandomForestRegressor(random_state=42),\n",
       "             param_grid={&#x27;max_depth&#x27;: [10, 20, 30],\n",
       "                         &#x27;min_samples_split&#x27;: [2, 5, 10],\n",
       "                         &#x27;n_estimators&#x27;: [100, 200, 300]},\n",
       "             scoring=&#x27;neg_mean_squared_error&#x27;)</pre></div></div></div><div class=\"sk-parallel\"><div class=\"sk-parallel-item\"><div class=\"sk-item\"><div class=\"sk-label-container\"><div class=\"sk-label sk-toggleable\"><input class=\"sk-toggleable__control sk-hidden--visually\" id=\"sk-estimator-id-9\" type=\"checkbox\" ><label for=\"sk-estimator-id-9\" class=\"sk-toggleable__label sk-toggleable__label-arrow\">estimator: RandomForestRegressor</label><div class=\"sk-toggleable__content\"><pre>RandomForestRegressor(random_state=42)</pre></div></div></div><div class=\"sk-serial\"><div class=\"sk-item\"><div class=\"sk-estimator sk-toggleable\"><input class=\"sk-toggleable__control sk-hidden--visually\" id=\"sk-estimator-id-10\" type=\"checkbox\" ><label for=\"sk-estimator-id-10\" class=\"sk-toggleable__label sk-toggleable__label-arrow\">RandomForestRegressor</label><div class=\"sk-toggleable__content\"><pre>RandomForestRegressor(random_state=42)</pre></div></div></div></div></div></div></div></div></div></div>"
      ],
      "text/plain": [
       "GridSearchCV(cv=5, estimator=RandomForestRegressor(random_state=42),\n",
       "             param_grid={'max_depth': [10, 20, 30],\n",
       "                         'min_samples_split': [2, 5, 10],\n",
       "                         'n_estimators': [100, 200, 300]},\n",
       "             scoring='neg_mean_squared_error')"
      ]
     },
     "execution_count": 184,
     "metadata": {},
     "output_type": "execute_result"
    }
   ],
   "source": [
    "# Fit the grid search model\n",
    "grid_search.fit(X_train, y_train)\n"
   ]
  },
  {
   "cell_type": "code",
   "execution_count": 185,
   "id": "f5ec5bab",
   "metadata": {},
   "outputs": [
    {
     "name": "stdout",
     "output_type": "stream",
     "text": [
      "Best parameters: {'max_depth': 10, 'min_samples_split': 5, 'n_estimators': 200}\n",
      "Best model: RandomForestRegressor(max_depth=10, min_samples_split=5, n_estimators=200,\n",
      "                      random_state=42)\n"
     ]
    }
   ],
   "source": [
    "# Get the best parameters and best model\n",
    "best_params = grid_search.best_params_\n",
    "best_model = grid_search.best_estimator_\n",
    "\n",
    "print(f\"Best parameters: {best_params}\")\n",
    "print(f\"Best model: {best_model}\")"
   ]
  },
  {
   "cell_type": "code",
   "execution_count": 186,
   "id": "201a588c",
   "metadata": {},
   "outputs": [],
   "source": [
    "# Make predictions on the test set\n",
    "y_pred = best_model.predict(X_test)"
   ]
  },
  {
   "cell_type": "code",
   "execution_count": 187,
   "id": "6d256b07",
   "metadata": {},
   "outputs": [
    {
     "name": "stdout",
     "output_type": "stream",
     "text": [
      "Training R² Score: 0.8486\n",
      "Training MAE: 0.2613\n",
      "Training MSE: 0.1312\n"
     ]
    }
   ],
   "source": [
    "# Predict on the training data to get training scores\n",
    "y_train_pred = best_model.predict(X_train)\n",
    "train_r2 = r2_score(y_train, y_train_pred)\n",
    "train_mae = mean_absolute_error(y_train, y_train_pred)\n",
    "train_mse = mean_squared_error(y_train, y_train_pred)\n",
    "\n",
    "# Display the training scores\n",
    "print(f\"Training R² Score: {train_r2:.4f}\")\n",
    "print(f\"Training MAE: {train_mae:.4f}\")\n",
    "print(f\"Training MSE: {train_mse:.4f}\")"
   ]
  },
  {
   "cell_type": "code",
   "execution_count": 188,
   "id": "27bdd3af",
   "metadata": {},
   "outputs": [
    {
     "name": "stdout",
     "output_type": "stream",
     "text": [
      "Testing R² Score: 0.8398\n",
      "Testing MAE: 0.3433\n",
      "Testing MSE: 0.1856\n"
     ]
    }
   ],
   "source": [
    "# Predict on the test data to get testing scores\n",
    "y_test_pred = best_model.predict(X_test)\n",
    "test_r2 = r2_score(y_test, y_test_pred)\n",
    "test_mae = mean_absolute_error(y_test, y_test_pred)\n",
    "test_mse = mean_squared_error(y_test, y_test_pred)\n",
    "\n",
    "# Display the testing scores\n",
    "\n",
    "print(f\"Testing R² Score: {test_r2:.4f}\")\n",
    "print(f\"Testing MAE: {test_mae:.4f}\")\n",
    "print(f\"Testing MSE: {test_mse:.4f}\")"
   ]
  },
  {
   "cell_type": "code",
   "execution_count": 189,
   "id": "c1a1d58f",
   "metadata": {},
   "outputs": [],
   "source": [
    "# Calculate evaluation metrics\n",
    "mae = mean_absolute_error(y_test, y_pred)\n",
    "mse = mean_squared_error(y_test, y_pred)\n",
    "rmse = np.sqrt(mse)\n",
    "r2 = r2_score(y_test, y_pred)"
   ]
  },
  {
   "cell_type": "code",
   "execution_count": 191,
   "id": "6630b41e",
   "metadata": {
    "scrolled": true
   },
   "outputs": [
    {
     "name": "stdout",
     "output_type": "stream",
     "text": [
      "Mean Absolute Error (MAE): 0.3433020933221048\n",
      "Mean Squared Error (MSE): 0.18564542003985576\n",
      "Root Mean Squared Error (RMSE): 0.43086589565647426\n",
      "R-squared (R²): 0.839791550729393\n"
     ]
    }
   ],
   "source": [
    "# Print the evaluation results\n",
    "print(f\"Mean Absolute Error (MAE): {mae}\")\n",
    "print(f\"Mean Squared Error (MSE): {mse}\")\n",
    "print(f\"Root Mean Squared Error (RMSE): {rmse}\")\n",
    "print(f\"R-squared (R²): {r2}\")"
   ]
  },
  {
   "cell_type": "code",
   "execution_count": 192,
   "id": "e43e0a4f",
   "metadata": {},
   "outputs": [
    {
     "data": {
      "text/html": [
       "<style>#sk-container-id-5 {color: black;}#sk-container-id-5 pre{padding: 0;}#sk-container-id-5 div.sk-toggleable {background-color: white;}#sk-container-id-5 label.sk-toggleable__label {cursor: pointer;display: block;width: 100%;margin-bottom: 0;padding: 0.3em;box-sizing: border-box;text-align: center;}#sk-container-id-5 label.sk-toggleable__label-arrow:before {content: \"▸\";float: left;margin-right: 0.25em;color: #696969;}#sk-container-id-5 label.sk-toggleable__label-arrow:hover:before {color: black;}#sk-container-id-5 div.sk-estimator:hover label.sk-toggleable__label-arrow:before {color: black;}#sk-container-id-5 div.sk-toggleable__content {max-height: 0;max-width: 0;overflow: hidden;text-align: left;background-color: #f0f8ff;}#sk-container-id-5 div.sk-toggleable__content pre {margin: 0.2em;color: black;border-radius: 0.25em;background-color: #f0f8ff;}#sk-container-id-5 input.sk-toggleable__control:checked~div.sk-toggleable__content {max-height: 200px;max-width: 100%;overflow: auto;}#sk-container-id-5 input.sk-toggleable__control:checked~label.sk-toggleable__label-arrow:before {content: \"▾\";}#sk-container-id-5 div.sk-estimator input.sk-toggleable__control:checked~label.sk-toggleable__label {background-color: #d4ebff;}#sk-container-id-5 div.sk-label input.sk-toggleable__control:checked~label.sk-toggleable__label {background-color: #d4ebff;}#sk-container-id-5 input.sk-hidden--visually {border: 0;clip: rect(1px 1px 1px 1px);clip: rect(1px, 1px, 1px, 1px);height: 1px;margin: -1px;overflow: hidden;padding: 0;position: absolute;width: 1px;}#sk-container-id-5 div.sk-estimator {font-family: monospace;background-color: #f0f8ff;border: 1px dotted black;border-radius: 0.25em;box-sizing: border-box;margin-bottom: 0.5em;}#sk-container-id-5 div.sk-estimator:hover {background-color: #d4ebff;}#sk-container-id-5 div.sk-parallel-item::after {content: \"\";width: 100%;border-bottom: 1px solid gray;flex-grow: 1;}#sk-container-id-5 div.sk-label:hover label.sk-toggleable__label {background-color: #d4ebff;}#sk-container-id-5 div.sk-serial::before {content: \"\";position: absolute;border-left: 1px solid gray;box-sizing: border-box;top: 0;bottom: 0;left: 50%;z-index: 0;}#sk-container-id-5 div.sk-serial {display: flex;flex-direction: column;align-items: center;background-color: white;padding-right: 0.2em;padding-left: 0.2em;position: relative;}#sk-container-id-5 div.sk-item {position: relative;z-index: 1;}#sk-container-id-5 div.sk-parallel {display: flex;align-items: stretch;justify-content: center;background-color: white;position: relative;}#sk-container-id-5 div.sk-item::before, #sk-container-id-5 div.sk-parallel-item::before {content: \"\";position: absolute;border-left: 1px solid gray;box-sizing: border-box;top: 0;bottom: 0;left: 50%;z-index: -1;}#sk-container-id-5 div.sk-parallel-item {display: flex;flex-direction: column;z-index: 1;position: relative;background-color: white;}#sk-container-id-5 div.sk-parallel-item:first-child::after {align-self: flex-end;width: 50%;}#sk-container-id-5 div.sk-parallel-item:last-child::after {align-self: flex-start;width: 50%;}#sk-container-id-5 div.sk-parallel-item:only-child::after {width: 0;}#sk-container-id-5 div.sk-dashed-wrapped {border: 1px dashed gray;margin: 0 0.4em 0.5em 0.4em;box-sizing: border-box;padding-bottom: 0.4em;background-color: white;}#sk-container-id-5 div.sk-label label {font-family: monospace;font-weight: bold;display: inline-block;line-height: 1.2em;}#sk-container-id-5 div.sk-label-container {text-align: center;}#sk-container-id-5 div.sk-container {/* jupyter's `normalize.less` sets `[hidden] { display: none; }` but bootstrap.min.css set `[hidden] { display: none !important; }` so we also need the `!important` here to be able to override the default hidden behavior on the sphinx rendered scikit-learn.org. See: https://github.com/scikit-learn/scikit-learn/issues/21755 */display: inline-block !important;position: relative;}#sk-container-id-5 div.sk-text-repr-fallback {display: none;}</style><div id=\"sk-container-id-5\" class=\"sk-top-container\"><div class=\"sk-text-repr-fallback\"><pre>LinearRegression()</pre><b>In a Jupyter environment, please rerun this cell to show the HTML representation or trust the notebook. <br />On GitHub, the HTML representation is unable to render, please try loading this page with nbviewer.org.</b></div><div class=\"sk-container\" hidden><div class=\"sk-item\"><div class=\"sk-estimator sk-toggleable\"><input class=\"sk-toggleable__control sk-hidden--visually\" id=\"sk-estimator-id-11\" type=\"checkbox\" checked><label for=\"sk-estimator-id-11\" class=\"sk-toggleable__label sk-toggleable__label-arrow\">LinearRegression</label><div class=\"sk-toggleable__content\"><pre>LinearRegression()</pre></div></div></div></div></div>"
      ],
      "text/plain": [
       "LinearRegression()"
      ]
     },
     "execution_count": 192,
     "metadata": {},
     "output_type": "execute_result"
    }
   ],
   "source": [
    "# Initialize the Linear Regression model\n",
    "model = LinearRegression()\n",
    "\n",
    "# Fit the model on the training data\n",
    "model.fit(X_train, y_train)"
   ]
  },
  {
   "cell_type": "code",
   "execution_count": 193,
   "id": "23b3e4d7",
   "metadata": {},
   "outputs": [
    {
     "name": "stdout",
     "output_type": "stream",
     "text": [
      "Training R² Score: 0.1388\n",
      "Training MAE: 0.6729\n",
      "Training MSE: 0.7461\n"
     ]
    }
   ],
   "source": [
    "# Predict on the training data\n",
    "y_train_pred = model.predict(X_train)\n",
    "train_r2 = r2_score(y_train, y_train_pred)\n",
    "train_mae = mean_absolute_error(y_train, y_train_pred)\n",
    "train_mse = mean_squared_error(y_train, y_train_pred)\n",
    "\n",
    "# Display the training and testing scores\n",
    "print(f\"Training R² Score: {train_r2:.4f}\")\n",
    "print(f\"Training MAE: {train_mae:.4f}\")\n",
    "print(f\"Training MSE: {train_mse:.4f}\")"
   ]
  },
  {
   "cell_type": "code",
   "execution_count": 194,
   "id": "765268c3",
   "metadata": {},
   "outputs": [
    {
     "name": "stdout",
     "output_type": "stream",
     "text": [
      "Testing R² Score: 0.1444\n",
      "Testing MAE: 0.8056\n",
      "Testing MSE: 0.9915\n"
     ]
    }
   ],
   "source": [
    "# Predict on the test data\n",
    "y_test_pred = model.predict(X_test)\n",
    "test_r2 = r2_score(y_test, y_test_pred)\n",
    "test_mae = mean_absolute_error(y_test, y_test_pred)\n",
    "test_mse = mean_squared_error(y_test, y_test_pred)\n",
    "\n",
    "print(f\"Testing R² Score: {test_r2:.4f}\")\n",
    "print(f\"Testing MAE: {test_mae:.4f}\")\n",
    "print(f\"Testing MSE: {test_mse:.4f}\")"
   ]
  },
  {
   "cell_type": "code",
   "execution_count": null,
   "id": "2eb0fbdf",
   "metadata": {},
   "outputs": [],
   "source": []
  },
  {
   "cell_type": "code",
   "execution_count": null,
   "id": "6977d35c",
   "metadata": {},
   "outputs": [],
   "source": []
  },
  {
   "cell_type": "code",
   "execution_count": 195,
   "id": "c330c286",
   "metadata": {},
   "outputs": [
    {
     "data": {
      "text/plain": [
       "array([-0.53562611,  0.23686421, -0.85499901,  0.61359521,  0.61359521,\n",
       "       -0.28028224, -0.67178332, -0.34484843, -1.07335201, -1.04296747,\n",
       "       -1.31353236,  1.23765192,  0.00499087,  1.42651355,  0.93208517,\n",
       "       -0.95736177,  0.06260388,  0.06260388, -1.34061949,  1.42651355])"
      ]
     },
     "execution_count": 195,
     "metadata": {},
     "output_type": "execute_result"
    }
   ],
   "source": [
    "y_pred"
   ]
  },
  {
   "cell_type": "code",
   "execution_count": 196,
   "id": "30e52a3b",
   "metadata": {},
   "outputs": [
    {
     "data": {
      "text/html": [
       "<div>\n",
       "<style scoped>\n",
       "    .dataframe tbody tr th:only-of-type {\n",
       "        vertical-align: middle;\n",
       "    }\n",
       "\n",
       "    .dataframe tbody tr th {\n",
       "        vertical-align: top;\n",
       "    }\n",
       "\n",
       "    .dataframe thead th {\n",
       "        text-align: right;\n",
       "    }\n",
       "</style>\n",
       "<table border=\"1\" class=\"dataframe\">\n",
       "  <thead>\n",
       "    <tr style=\"text-align: right;\">\n",
       "      <th></th>\n",
       "      <th>YEAR_NUM</th>\n",
       "    </tr>\n",
       "  </thead>\n",
       "  <tbody>\n",
       "    <tr>\n",
       "      <th>83</th>\n",
       "      <td>2020</td>\n",
       "    </tr>\n",
       "    <tr>\n",
       "      <th>53</th>\n",
       "      <td>2012</td>\n",
       "    </tr>\n",
       "    <tr>\n",
       "      <th>70</th>\n",
       "      <td>2016</td>\n",
       "    </tr>\n",
       "    <tr>\n",
       "      <th>45</th>\n",
       "      <td>2010</td>\n",
       "    </tr>\n",
       "    <tr>\n",
       "      <th>44</th>\n",
       "      <td>2010</td>\n",
       "    </tr>\n",
       "    <tr>\n",
       "      <th>39</th>\n",
       "      <td>2009</td>\n",
       "    </tr>\n",
       "    <tr>\n",
       "      <th>22</th>\n",
       "      <td>2004</td>\n",
       "    </tr>\n",
       "    <tr>\n",
       "      <th>80</th>\n",
       "      <td>2019</td>\n",
       "    </tr>\n",
       "    <tr>\n",
       "      <th>10</th>\n",
       "      <td>2001</td>\n",
       "    </tr>\n",
       "    <tr>\n",
       "      <th>0</th>\n",
       "      <td>1999</td>\n",
       "    </tr>\n",
       "    <tr>\n",
       "      <th>18</th>\n",
       "      <td>2003</td>\n",
       "    </tr>\n",
       "    <tr>\n",
       "      <th>30</th>\n",
       "      <td>2006</td>\n",
       "    </tr>\n",
       "    <tr>\n",
       "      <th>73</th>\n",
       "      <td>2017</td>\n",
       "    </tr>\n",
       "    <tr>\n",
       "      <th>33</th>\n",
       "      <td>2007</td>\n",
       "    </tr>\n",
       "    <tr>\n",
       "      <th>90</th>\n",
       "      <td>2021</td>\n",
       "    </tr>\n",
       "    <tr>\n",
       "      <th>4</th>\n",
       "      <td>2000</td>\n",
       "    </tr>\n",
       "    <tr>\n",
       "      <th>76</th>\n",
       "      <td>2018</td>\n",
       "    </tr>\n",
       "    <tr>\n",
       "      <th>77</th>\n",
       "      <td>2018</td>\n",
       "    </tr>\n",
       "    <tr>\n",
       "      <th>12</th>\n",
       "      <td>2002</td>\n",
       "    </tr>\n",
       "    <tr>\n",
       "      <th>31</th>\n",
       "      <td>2007</td>\n",
       "    </tr>\n",
       "  </tbody>\n",
       "</table>\n",
       "</div>"
      ],
      "text/plain": [
       "    YEAR_NUM\n",
       "83      2020\n",
       "53      2012\n",
       "70      2016\n",
       "45      2010\n",
       "44      2010\n",
       "39      2009\n",
       "22      2004\n",
       "80      2019\n",
       "10      2001\n",
       "0       1999\n",
       "18      2003\n",
       "30      2006\n",
       "73      2017\n",
       "33      2007\n",
       "90      2021\n",
       "4       2000\n",
       "76      2018\n",
       "77      2018\n",
       "12      2002\n",
       "31      2007"
      ]
     },
     "execution_count": 196,
     "metadata": {},
     "output_type": "execute_result"
    }
   ],
   "source": [
    "X_test"
   ]
  },
  {
   "cell_type": "code",
   "execution_count": 197,
   "id": "3499a586",
   "metadata": {},
   "outputs": [
    {
     "data": {
      "text/plain": [
       "83   -0.625553\n",
       "53   -0.090528\n",
       "70   -0.581436\n",
       "45    0.275642\n",
       "44    0.288925\n",
       "39   -1.359030\n",
       "22   -0.303367\n",
       "80   -0.392062\n",
       "10   -1.456613\n",
       "0    -1.494359\n",
       "18   -1.020637\n",
       "30    1.713330\n",
       "73    0.094249\n",
       "33    1.309366\n",
       "90    1.776050\n",
       "4    -1.103644\n",
       "76    0.667534\n",
       "77    0.192551\n",
       "12   -1.377642\n",
       "31    1.872895\n",
       "Name: PRICE IN DOLLARS PER METRIC TONS, dtype: float64"
      ]
     },
     "execution_count": 197,
     "metadata": {},
     "output_type": "execute_result"
    }
   ],
   "source": [
    "y_test"
   ]
  },
  {
   "cell_type": "code",
   "execution_count": 198,
   "id": "5e9b3120",
   "metadata": {},
   "outputs": [
    {
     "data": {
      "text/plain": [
       "array([-0.53562611,  0.23686421, -0.85499901,  0.61359521,  0.61359521,\n",
       "       -0.28028224, -0.67178332, -0.34484843, -1.07335201, -1.04296747,\n",
       "       -1.31353236,  1.23765192,  0.00499087,  1.42651355,  0.93208517,\n",
       "       -0.95736177,  0.06260388,  0.06260388, -1.34061949,  1.42651355])"
      ]
     },
     "execution_count": 198,
     "metadata": {},
     "output_type": "execute_result"
    }
   ],
   "source": [
    "y_pred"
   ]
  },
  {
   "cell_type": "code",
   "execution_count": 199,
   "id": "bac3106a",
   "metadata": {},
   "outputs": [],
   "source": [
    "# Create a DataFrame for easier plotting\n",
    "results_df = pd.DataFrame({'Actual': y_test, 'Predicted': y_pred})\n",
    "\n"
   ]
  },
  {
   "cell_type": "code",
   "execution_count": 200,
   "id": "59da3ab4",
   "metadata": {},
   "outputs": [
    {
     "data": {
      "image/png": "[encoded data removed]",
      "text/plain": [
       "<Figure size 1000x600 with 1 Axes>"
      ]
     },
     "metadata": {},
     "output_type": "display_data"
    }
   ],
   "source": [
    "# Plotting\n",
    "plt.figure(figsize=(10, 6))\n",
    "sns.scatterplot(x='Actual', y='Predicted', data=results_df, color='blue', label='Predicted')\n",
    "plt.plot([min(y_test), max(y_test)], [min(y_test), max(y_test)], color='red', lw=2, label='Ideal Fit Line')\n",
    "plt.title('Actual vs Predicted Prices')\n",
    "plt.xlabel('Actual Price')\n",
    "plt.ylabel('Predicted Price')\n",
    "plt.legend()\n",
    "plt.grid(True)\n",
    "plt.show()"
   ]
  },
  {
   "cell_type": "code",
   "execution_count": 201,
   "id": "2a51cbfc",
   "metadata": {},
   "outputs": [],
   "source": [
    "X_test['YEAR_NUM'] = pd.to_numeric(X_test['YEAR_NUM'], errors='coerce')"
   ]
  },
  {
   "cell_type": "code",
   "execution_count": 202,
   "id": "1948e3e2",
   "metadata": {},
   "outputs": [],
   "source": [
    "# Create a DataFrame for plotting with 'YEAR_NUM'\n",
    "results_df = pd.DataFrame({\n",
    "    'Year': X_test['YEAR_NUM'],  # Make sure 'YEAR_NUM' is converted correctly\n",
    "    'Actual': y_test,\n",
    "    'Predicted': y_pred\n",
    "})"
   ]
  },
  {
   "cell_type": "code",
   "execution_count": 203,
   "id": "3197d174",
   "metadata": {},
   "outputs": [],
   "source": [
    "# Sort the dataframe by 'Year' to ensure the plot is in chronological order\n",
    "results_df = results_df.sort_values(by='Year')"
   ]
  },
  {
   "cell_type": "code",
   "execution_count": 204,
   "id": "477fa6ce",
   "metadata": {},
   "outputs": [
    {
     "data": {
      "image/png": "[encoded data removed]",
      "text/plain": [
       "<Figure size 1200x600 with 1 Axes>"
      ]
     },
     "metadata": {},
     "output_type": "display_data"
    }
   ],
   "source": [
    "# Plotting the actual vs predicted values with 'Year' as the x-axis\n",
    "plt.figure(figsize=(12, 6))\n",
    "plt.plot(results_df['Year'], results_df['Actual'], label='Actual', color='blue', marker='o', linestyle='-', markersize=4)\n",
    "plt.plot(results_df['Year'], results_df['Predicted'], label='Predicted', color='orange', marker='x', linestyle='--', markersize=4)\n",
    "\n",
    "# Add labels, title, and legend\n",
    "plt.xlabel('YEAR')\n",
    "plt.ylabel('PRICE IN DOLLARS PER METRIC TONS')\n",
    "plt.title('ACTUAL VS PREDICTED PRICES OVER YEARS')\n",
    "plt.legend()\n",
    "plt.grid(True)\n",
    "plt.tight_layout()\n",
    "\n",
    "# Show the plot\n",
    "plt.show()"
   ]
  },
  {
   "cell_type": "markdown",
   "id": "10683fc2",
   "metadata": {},
   "source": [
    "# Correlation Matrix"
   ]
  },
  {
   "cell_type": "code",
   "execution_count": 205,
   "id": "5642f97f",
   "metadata": {},
   "outputs": [],
   "source": [
    "# Plotting correlation matrix\n",
    "\n",
    "# Create a DataFrame with actual and predicted values\n",
    "correlation_df = pd.DataFrame({\n",
    "    'Actual': y_test,\n",
    "    'Predicted': y_pred\n",
    "})"
   ]
  },
  {
   "cell_type": "code",
   "execution_count": 206,
   "id": "3f6f792b",
   "metadata": {},
   "outputs": [],
   "source": [
    "# Calculate the correlation matrix\n",
    "correlation_matrix = correlation_df.corr()"
   ]
  },
  {
   "cell_type": "code",
   "execution_count": 207,
   "id": "70d5de65",
   "metadata": {},
   "outputs": [
    {
     "data": {
      "image/png": "[encoded data removed]",
      "text/plain": [
       "<Figure size 600x400 with 2 Axes>"
      ]
     },
     "metadata": {},
     "output_type": "display_data"
    }
   ],
   "source": [
    "# Plot the correlation matrix using seaborn\n",
    "plt.figure(figsize=(6, 4))\n",
    "sns.heatmap(correlation_matrix, annot=True, cmap='coolwarm', vmin=-1, vmax=1, square=True, fmt='.2f')\n",
    "\n",
    "# Add title\n",
    "plt.title('Correlation Matrix of Actual vs Predicted Prices')\n",
    "\n",
    "# Show the plot\n",
    "plt.tight_layout()\n",
    "plt.show()"
   ]
  },
  {
   "cell_type": "code",
   "execution_count": 166,
   "id": "96859e8e",
   "metadata": {},
   "outputs": [
    {
     "name": "stdout",
     "output_type": "stream",
     "text": [
      "3/3 [==============================] - 3s 5ms/step - loss: 12.4015 - mean_absolute_error: 1.4508\n",
      "1/1 [==============================] - 0s 226ms/step\n"
     ]
    },
    {
     "ename": "ValueError",
     "evalue": "continuous is not supported",
     "output_type": "error",
     "traceback": [
      "\u001b[1;31m---------------------------------------------------------------------------\u001b[0m",
      "\u001b[1;31mValueError\u001b[0m                                Traceback (most recent call last)",
      "Cell \u001b[1;32mIn[166], line 8\u001b[0m\n\u001b[0;32m      6\u001b[0m \u001b[38;5;66;03m# Predict on the test data to check test accuracy\u001b[39;00m\n\u001b[0;32m      7\u001b[0m y_test_pred \u001b[38;5;241m=\u001b[39m model\u001b[38;5;241m.\u001b[39mpredict(X_test)\n\u001b[1;32m----> 8\u001b[0m test_accuracy \u001b[38;5;241m=\u001b[39m \u001b[43maccuracy_score\u001b[49m\u001b[43m(\u001b[49m\u001b[43my_test\u001b[49m\u001b[43m,\u001b[49m\u001b[43m \u001b[49m\u001b[43my_test_pred\u001b[49m\u001b[43m)\u001b[49m\n\u001b[0;32m     10\u001b[0m \u001b[38;5;66;03m# Display the accuracies\u001b[39;00m\n\u001b[0;32m     11\u001b[0m \u001b[38;5;28mprint\u001b[39m(\u001b[38;5;124mf\u001b[39m\u001b[38;5;124m\"\u001b[39m\u001b[38;5;124mTraining Accuracy: \u001b[39m\u001b[38;5;132;01m{\u001b[39;00mtrain_accuracy\u001b[38;5;132;01m:\u001b[39;00m\u001b[38;5;124m.2f\u001b[39m\u001b[38;5;132;01m}\u001b[39;00m\u001b[38;5;124m\"\u001b[39m)\n",
      "File \u001b[1;32m~\\AppData\\Local\\Programs\\Python\\Python311\\Lib\\site-packages\\sklearn\\utils\\_param_validation.py:211\u001b[0m, in \u001b[0;36mvalidate_params.<locals>.decorator.<locals>.wrapper\u001b[1;34m(*args, **kwargs)\u001b[0m\n\u001b[0;32m    205\u001b[0m \u001b[38;5;28;01mtry\u001b[39;00m:\n\u001b[0;32m    206\u001b[0m     \u001b[38;5;28;01mwith\u001b[39;00m config_context(\n\u001b[0;32m    207\u001b[0m         skip_parameter_validation\u001b[38;5;241m=\u001b[39m(\n\u001b[0;32m    208\u001b[0m             prefer_skip_nested_validation \u001b[38;5;129;01mor\u001b[39;00m global_skip_validation\n\u001b[0;32m    209\u001b[0m         )\n\u001b[0;32m    210\u001b[0m     ):\n\u001b[1;32m--> 211\u001b[0m         \u001b[38;5;28;01mreturn\u001b[39;00m \u001b[43mfunc\u001b[49m\u001b[43m(\u001b[49m\u001b[38;5;241;43m*\u001b[39;49m\u001b[43margs\u001b[49m\u001b[43m,\u001b[49m\u001b[43m \u001b[49m\u001b[38;5;241;43m*\u001b[39;49m\u001b[38;5;241;43m*\u001b[39;49m\u001b[43mkwargs\u001b[49m\u001b[43m)\u001b[49m\n\u001b[0;32m    212\u001b[0m \u001b[38;5;28;01mexcept\u001b[39;00m InvalidParameterError \u001b[38;5;28;01mas\u001b[39;00m e:\n\u001b[0;32m    213\u001b[0m     \u001b[38;5;66;03m# When the function is just a wrapper around an estimator, we allow\u001b[39;00m\n\u001b[0;32m    214\u001b[0m     \u001b[38;5;66;03m# the function to delegate validation to the estimator, but we replace\u001b[39;00m\n\u001b[0;32m    215\u001b[0m     \u001b[38;5;66;03m# the name of the estimator by the name of the function in the error\u001b[39;00m\n\u001b[0;32m    216\u001b[0m     \u001b[38;5;66;03m# message to avoid confusion.\u001b[39;00m\n\u001b[0;32m    217\u001b[0m     msg \u001b[38;5;241m=\u001b[39m re\u001b[38;5;241m.\u001b[39msub(\n\u001b[0;32m    218\u001b[0m         \u001b[38;5;124mr\u001b[39m\u001b[38;5;124m\"\u001b[39m\u001b[38;5;124mparameter of \u001b[39m\u001b[38;5;124m\\\u001b[39m\u001b[38;5;124mw+ must be\u001b[39m\u001b[38;5;124m\"\u001b[39m,\n\u001b[0;32m    219\u001b[0m         \u001b[38;5;124mf\u001b[39m\u001b[38;5;124m\"\u001b[39m\u001b[38;5;124mparameter of \u001b[39m\u001b[38;5;132;01m{\u001b[39;00mfunc\u001b[38;5;241m.\u001b[39m\u001b[38;5;18m__qualname__\u001b[39m\u001b[38;5;132;01m}\u001b[39;00m\u001b[38;5;124m must be\u001b[39m\u001b[38;5;124m\"\u001b[39m,\n\u001b[0;32m    220\u001b[0m         \u001b[38;5;28mstr\u001b[39m(e),\n\u001b[0;32m    221\u001b[0m     )\n",
      "File \u001b[1;32m~\\AppData\\Local\\Programs\\Python\\Python311\\Lib\\site-packages\\sklearn\\metrics\\_classification.py:220\u001b[0m, in \u001b[0;36maccuracy_score\u001b[1;34m(y_true, y_pred, normalize, sample_weight)\u001b[0m\n\u001b[0;32m    154\u001b[0m \u001b[38;5;250m\u001b[39m\u001b[38;5;124;03m\"\"\"Accuracy classification score.\u001b[39;00m\n\u001b[0;32m    155\u001b[0m \n\u001b[0;32m    156\u001b[0m \u001b[38;5;124;03mIn multilabel classification, this function computes subset accuracy:\u001b[39;00m\n\u001b[1;32m   (...)\u001b[0m\n\u001b[0;32m    216\u001b[0m \u001b[38;5;124;03m0.5\u001b[39;00m\n\u001b[0;32m    217\u001b[0m \u001b[38;5;124;03m\"\"\"\u001b[39;00m\n\u001b[0;32m    219\u001b[0m \u001b[38;5;66;03m# Compute accuracy for each possible representation\u001b[39;00m\n\u001b[1;32m--> 220\u001b[0m y_type, y_true, y_pred \u001b[38;5;241m=\u001b[39m \u001b[43m_check_targets\u001b[49m\u001b[43m(\u001b[49m\u001b[43my_true\u001b[49m\u001b[43m,\u001b[49m\u001b[43m \u001b[49m\u001b[43my_pred\u001b[49m\u001b[43m)\u001b[49m\n\u001b[0;32m    221\u001b[0m check_consistent_length(y_true, y_pred, sample_weight)\n\u001b[0;32m    222\u001b[0m \u001b[38;5;28;01mif\u001b[39;00m y_type\u001b[38;5;241m.\u001b[39mstartswith(\u001b[38;5;124m\"\u001b[39m\u001b[38;5;124mmultilabel\u001b[39m\u001b[38;5;124m\"\u001b[39m):\n",
      "File \u001b[1;32m~\\AppData\\Local\\Programs\\Python\\Python311\\Lib\\site-packages\\sklearn\\metrics\\_classification.py:104\u001b[0m, in \u001b[0;36m_check_targets\u001b[1;34m(y_true, y_pred)\u001b[0m\n\u001b[0;32m    102\u001b[0m \u001b[38;5;66;03m# No metrics support \"multiclass-multioutput\" format\u001b[39;00m\n\u001b[0;32m    103\u001b[0m \u001b[38;5;28;01mif\u001b[39;00m y_type \u001b[38;5;129;01mnot\u001b[39;00m \u001b[38;5;129;01min\u001b[39;00m [\u001b[38;5;124m\"\u001b[39m\u001b[38;5;124mbinary\u001b[39m\u001b[38;5;124m\"\u001b[39m, \u001b[38;5;124m\"\u001b[39m\u001b[38;5;124mmulticlass\u001b[39m\u001b[38;5;124m\"\u001b[39m, \u001b[38;5;124m\"\u001b[39m\u001b[38;5;124mmultilabel-indicator\u001b[39m\u001b[38;5;124m\"\u001b[39m]:\n\u001b[1;32m--> 104\u001b[0m     \u001b[38;5;28;01mraise\u001b[39;00m \u001b[38;5;167;01mValueError\u001b[39;00m(\u001b[38;5;124m\"\u001b[39m\u001b[38;5;132;01m{0}\u001b[39;00m\u001b[38;5;124m is not supported\u001b[39m\u001b[38;5;124m\"\u001b[39m\u001b[38;5;241m.\u001b[39mformat(y_type))\n\u001b[0;32m    106\u001b[0m \u001b[38;5;28;01mif\u001b[39;00m y_type \u001b[38;5;129;01min\u001b[39;00m [\u001b[38;5;124m\"\u001b[39m\u001b[38;5;124mbinary\u001b[39m\u001b[38;5;124m\"\u001b[39m, \u001b[38;5;124m\"\u001b[39m\u001b[38;5;124mmulticlass\u001b[39m\u001b[38;5;124m\"\u001b[39m]:\n\u001b[0;32m    107\u001b[0m     y_true \u001b[38;5;241m=\u001b[39m column_or_1d(y_true)\n",
      "\u001b[1;31mValueError\u001b[0m: continuous is not supported"
     ]
    }
   ],
   "source": [
    "# Train the model on the training data\n",
    "model.fit(X_train, y_train)\n",
    "\n",
    "\n",
    "\n",
    "# Predict on the test data to check test accuracy\n",
    "y_test_pred = model.predict(X_test)\n",
    "test_accuracy = accuracy_score(y_test, y_test_pred)\n",
    "\n",
    "# Display the accuracies\n",
    "print(f\"Training Accuracy: {train_accuracy:.2f}\")\n",
    "print(f\"Testing Accuracy: {test_accuracy:.2f}\")"
   ]
  },
  {
   "cell_type": "markdown",
   "id": "9f8c6ca1",
   "metadata": {},
   "source": [
    "# Applying neural networks to improve the performance of model"
   ]
  },
  {
   "cell_type": "code",
   "execution_count": 74,
   "id": "df8cc6ed",
   "metadata": {},
   "outputs": [],
   "source": []
  },
  {
   "cell_type": "code",
   "execution_count": 208,
   "id": "b0918ec6",
   "metadata": {},
   "outputs": [],
   "source": [
    "# Scaling the features to normalize the data\n",
    "scaler = StandardScaler()\n",
    "X_train_scaled = scaler.fit_transform(X_train)\n",
    "X_test_scaled = scaler.transform(X_test)"
   ]
  },
  {
   "cell_type": "code",
   "execution_count": 209,
   "id": "1c16c518",
   "metadata": {},
   "outputs": [],
   "source": [
    "# Define the neural network model\n",
    "model = Sequential()"
   ]
  },
  {
   "cell_type": "code",
   "execution_count": 210,
   "id": "f18db342",
   "metadata": {},
   "outputs": [],
   "source": [
    "# Input layer and first hidden layer with 64 neurons and ReLU activation\n",
    "model.add(Dense(32, input_dim=X_train.shape[1], activation='relu'))\n",
    "\n",
    "# Second hidden layer with 32 neurons and ReLU activation\n",
    "model.add(Dense(16, activation='relu'))\n",
    "\n",
    "# Third hidden layer with 16 neurons and ReLU activation\n",
    "model.add(Dense(8, activation='relu'))\n",
    "\n",
    "# Output layer with a single neuron (since it's a regression task)\n",
    "model.add(Dense(1, activation='linear'))\n"
   ]
  },
  {
   "cell_type": "code",
   "execution_count": 211,
   "id": "6c002053",
   "metadata": {},
   "outputs": [],
   "source": [
    "# Compile the model with Adam optimizer and MSE loss function\n",
    "model.compile(optimizer='adam', loss='mean_squared_error', metrics=['mean_absolute_error'])"
   ]
  },
  {
   "cell_type": "code",
   "execution_count": 212,
   "id": "9624aa73",
   "metadata": {},
   "outputs": [
    {
     "name": "stdout",
     "output_type": "stream",
     "text": [
      "Epoch 1/30\n",
      "10/10 [==============================] - 1s 15ms/step - loss: 0.9001 - mean_absolute_error: 0.7873 - val_loss: 1.1106 - val_mean_absolute_error: 0.8740\n",
      "Epoch 2/30\n",
      "10/10 [==============================] - 0s 4ms/step - loss: 0.8099 - mean_absolute_error: 0.7395 - val_loss: 1.0590 - val_mean_absolute_error: 0.8436\n",
      "Epoch 3/30\n",
      "10/10 [==============================] - 0s 6ms/step - loss: 0.7746 - mean_absolute_error: 0.7136 - val_loss: 1.0202 - val_mean_absolute_error: 0.8149\n",
      "Epoch 4/30\n",
      "10/10 [==============================] - 0s 4ms/step - loss: 0.7547 - mean_absolute_error: 0.6898 - val_loss: 0.9967 - val_mean_absolute_error: 0.8007\n",
      "Epoch 5/30\n",
      "10/10 [==============================] - 0s 5ms/step - loss: 0.7391 - mean_absolute_error: 0.6753 - val_loss: 0.9788 - val_mean_absolute_error: 0.7836\n",
      "Epoch 6/30\n",
      "10/10 [==============================] - 0s 5ms/step - loss: 0.7236 - mean_absolute_error: 0.6588 - val_loss: 0.9683 - val_mean_absolute_error: 0.7762\n",
      "Epoch 7/30\n",
      "10/10 [==============================] - 0s 4ms/step - loss: 0.7149 - mean_absolute_error: 0.6508 - val_loss: 0.9562 - val_mean_absolute_error: 0.7687\n",
      "Epoch 8/30\n",
      "10/10 [==============================] - 0s 5ms/step - loss: 0.7064 - mean_absolute_error: 0.6439 - val_loss: 0.9464 - val_mean_absolute_error: 0.7630\n",
      "Epoch 9/30\n",
      "10/10 [==============================] - 0s 5ms/step - loss: 0.6962 - mean_absolute_error: 0.6364 - val_loss: 0.9379 - val_mean_absolute_error: 0.7533\n",
      "Epoch 10/30\n",
      "10/10 [==============================] - 0s 6ms/step - loss: 0.6868 - mean_absolute_error: 0.6310 - val_loss: 0.9295 - val_mean_absolute_error: 0.7495\n",
      "Epoch 11/30\n",
      "10/10 [==============================] - 0s 6ms/step - loss: 0.6863 - mean_absolute_error: 0.6289 - val_loss: 0.9233 - val_mean_absolute_error: 0.7419\n",
      "Epoch 12/30\n",
      "10/10 [==============================] - 0s 5ms/step - loss: 0.6703 - mean_absolute_error: 0.6241 - val_loss: 0.9148 - val_mean_absolute_error: 0.7463\n",
      "Epoch 13/30\n",
      "10/10 [==============================] - 0s 5ms/step - loss: 0.6627 - mean_absolute_error: 0.6219 - val_loss: 0.9067 - val_mean_absolute_error: 0.7435\n",
      "Epoch 14/30\n",
      "10/10 [==============================] - 0s 5ms/step - loss: 0.6545 - mean_absolute_error: 0.6175 - val_loss: 0.8955 - val_mean_absolute_error: 0.7350\n",
      "Epoch 15/30\n",
      "10/10 [==============================] - 0s 4ms/step - loss: 0.6404 - mean_absolute_error: 0.6066 - val_loss: 0.8866 - val_mean_absolute_error: 0.7239\n",
      "Epoch 16/30\n",
      "10/10 [==============================] - 0s 4ms/step - loss: 0.6336 - mean_absolute_error: 0.5991 - val_loss: 0.8784 - val_mean_absolute_error: 0.7180\n",
      "Epoch 17/30\n",
      "10/10 [==============================] - 0s 5ms/step - loss: 0.6192 - mean_absolute_error: 0.5981 - val_loss: 0.8534 - val_mean_absolute_error: 0.7122\n",
      "Epoch 18/30\n",
      "10/10 [==============================] - 0s 4ms/step - loss: 0.6090 - mean_absolute_error: 0.5878 - val_loss: 0.8412 - val_mean_absolute_error: 0.6960\n",
      "Epoch 19/30\n",
      "10/10 [==============================] - 0s 6ms/step - loss: 0.5879 - mean_absolute_error: 0.5807 - val_loss: 0.8224 - val_mean_absolute_error: 0.6950\n",
      "Epoch 20/30\n",
      "10/10 [==============================] - 0s 4ms/step - loss: 0.5775 - mean_absolute_error: 0.5801 - val_loss: 0.8080 - val_mean_absolute_error: 0.6864\n",
      "Epoch 21/30\n",
      "10/10 [==============================] - 0s 4ms/step - loss: 0.5590 - mean_absolute_error: 0.5689 - val_loss: 0.7946 - val_mean_absolute_error: 0.6718\n",
      "Epoch 22/30\n",
      "10/10 [==============================] - 0s 4ms/step - loss: 0.5475 - mean_absolute_error: 0.5639 - val_loss: 0.7809 - val_mean_absolute_error: 0.6624\n",
      "Epoch 23/30\n",
      "10/10 [==============================] - 0s 5ms/step - loss: 0.5340 - mean_absolute_error: 0.5539 - val_loss: 0.7697 - val_mean_absolute_error: 0.6506\n",
      "Epoch 24/30\n",
      "10/10 [==============================] - 0s 4ms/step - loss: 0.5176 - mean_absolute_error: 0.5469 - val_loss: 0.7518 - val_mean_absolute_error: 0.6389\n",
      "Epoch 25/30\n",
      "10/10 [==============================] - 0s 5ms/step - loss: 0.5055 - mean_absolute_error: 0.5454 - val_loss: 0.7397 - val_mean_absolute_error: 0.6396\n",
      "Epoch 26/30\n",
      "10/10 [==============================] - 0s 4ms/step - loss: 0.4961 - mean_absolute_error: 0.5371 - val_loss: 0.7399 - val_mean_absolute_error: 0.6327\n",
      "Epoch 27/30\n",
      "10/10 [==============================] - 0s 4ms/step - loss: 0.4815 - mean_absolute_error: 0.5337 - val_loss: 0.7196 - val_mean_absolute_error: 0.6318\n",
      "Epoch 28/30\n",
      "10/10 [==============================] - 0s 4ms/step - loss: 0.4731 - mean_absolute_error: 0.5361 - val_loss: 0.7073 - val_mean_absolute_error: 0.6287\n",
      "Epoch 29/30\n",
      "10/10 [==============================] - 0s 6ms/step - loss: 0.4697 - mean_absolute_error: 0.5302 - val_loss: 0.7030 - val_mean_absolute_error: 0.6347\n",
      "Epoch 30/30\n",
      "10/10 [==============================] - 0s 4ms/step - loss: 0.4554 - mean_absolute_error: 0.5266 - val_loss: 0.6904 - val_mean_absolute_error: 0.6294\n"
     ]
    }
   ],
   "source": [
    "# Train the model\n",
    "history = model.fit(X_train_scaled, y_train, validation_data=(X_test_scaled, y_test), epochs=30, batch_size=8, verbose=1)"
   ]
  },
  {
   "cell_type": "code",
   "execution_count": 213,
   "id": "ffc52c82",
   "metadata": {},
   "outputs": [
    {
     "name": "stdout",
     "output_type": "stream",
     "text": [
      "WARNING:tensorflow:5 out of the last 14 calls to <function Model.make_predict_function.<locals>.predict_function at 0x000002117361D8A0> triggered tf.function retracing. Tracing is expensive and the excessive number of tracings could be due to (1) creating @tf.function repeatedly in a loop, (2) passing tensors with different shapes, (3) passing Python objects instead of tensors. For (1), please define your @tf.function outside of the loop. For (2), @tf.function has reduce_retracing=True option that can avoid unnecessary retracing. For (3), please refer to https://www.tensorflow.org/guide/function#controlling_retracing and https://www.tensorflow.org/api_docs/python/tf/function for  more details.\n",
      "3/3 [==============================] - 0s 1ms/step\n",
      "1/1 [==============================] - 0s 20ms/step\n"
     ]
    }
   ],
   "source": [
    "# Evaluate the model and make predictions\n",
    "y_train_pred = model.predict(X_train_scaled)\n",
    "y_test_pred = model.predict(X_test_scaled)"
   ]
  },
  {
   "cell_type": "code",
   "execution_count": 214,
   "id": "67bc063a",
   "metadata": {
    "scrolled": true
   },
   "outputs": [
    {
     "name": "stdout",
     "output_type": "stream",
     "text": [
      "Training R² Score: 0.4873\n",
      "Training MAE: 0.5225\n",
      "Training MSE: 0.4442\n"
     ]
    }
   ],
   "source": [
    "# Calculate performance metrics\n",
    "train_r2 = r2_score(y_train, y_train_pred)\n",
    "train_mae = mean_absolute_error(y_train, y_train_pred)\n",
    "train_mse = mean_squared_error(y_train, y_train_pred)\n",
    "\n",
    "# Print the performance metrics\n",
    "print(f\"Training R² Score: {train_r2:.4f}\")\n",
    "print(f\"Training MAE: {train_mae:.4f}\")\n",
    "print(f\"Training MSE: {train_mse:.4f}\")"
   ]
  },
  {
   "cell_type": "code",
   "execution_count": 215,
   "id": "7f4711ca",
   "metadata": {},
   "outputs": [
    {
     "name": "stdout",
     "output_type": "stream",
     "text": [
      "Testing R² Score: 0.4042\n",
      "Testing MAE: 0.6294\n",
      "Testing MSE: 0.6904\n"
     ]
    }
   ],
   "source": [
    "test_r2 = r2_score(y_test, y_test_pred)\n",
    "test_mae = mean_absolute_error(y_test, y_test_pred)\n",
    "test_mse = mean_squared_error(y_test, y_test_pred)\n",
    "\n",
    "\n",
    "print(f\"Testing R² Score: {test_r2:.4f}\")\n",
    "print(f\"Testing MAE: {test_mae:.4f}\")\n",
    "print(f\"Testing MSE: {test_mse:.4f}\")"
   ]
  },
  {
   "cell_type": "code",
   "execution_count": 216,
   "id": "4b8b0818",
   "metadata": {},
   "outputs": [
    {
     "data": {
      "image/png": "[encoded data removed]",
      "text/plain": [
       "<Figure size 640x480 with 1 Axes>"
      ]
     },
     "metadata": {},
     "output_type": "display_data"
    }
   ],
   "source": [
    "# Plot training & validation loss values\n",
    "import matplotlib.pyplot as plt\n",
    "plt.plot(history.history['loss'], label='Train Loss')\n",
    "plt.plot(history.history['val_loss'], label='Test Loss')\n",
    "plt.title('Model Loss')\n",
    "plt.ylabel('Loss')\n",
    "plt.xlabel('Epoch')\n",
    "plt.legend(loc='upper right')\n",
    "plt.show()"
   ]
  },
  {
   "cell_type": "code",
   "execution_count": 217,
   "id": "c1b45173",
   "metadata": {},
   "outputs": [],
   "source": [
    "# Input layer and first hidden layer with 32 neurons and ReLU activation, add dropout\n",
    "model.add(Dense(32, input_dim=X_train.shape[1], activation='relu'))\n",
    "model.add(Dropout(0.3))  # Drop 30% of the neurons during training\n",
    "\n",
    "# Second hidden layer with 16 neurons and ReLU activation, add dropout\n",
    "model.add(Dense(16, activation='relu'))\n",
    "model.add(Dropout(0.3))\n",
    "\n",
    "# Third hidden layer with 8 neurons and ReLU activation, add dropout\n",
    "model.add(Dense(8, activation='relu'))\n",
    "model.add(Dropout(0.3))"
   ]
  },
  {
   "cell_type": "code",
   "execution_count": 218,
   "id": "b1988e2d",
   "metadata": {},
   "outputs": [],
   "source": [
    "# Output layer with a single neuron for regression\n",
    "model.add(Dense(1, activation='linear'))"
   ]
  },
  {
   "cell_type": "code",
   "execution_count": 219,
   "id": "244ca152",
   "metadata": {},
   "outputs": [],
   "source": [
    "# Compile the model with Adam optimizer and Mean Squared Error (MSE) loss\n",
    "model.compile(optimizer=tf.keras.optimizers.Adam(learning_rate=0.0001), \n",
    "              loss='mean_squared_error', \n",
    "              metrics=['mean_absolute_error'])"
   ]
  },
  {
   "cell_type": "code",
   "execution_count": 220,
   "id": "99e1451e",
   "metadata": {},
   "outputs": [],
   "source": [
    "# Early stopping to prevent overfitting\n",
    "early_stopping = EarlyStopping(monitor='val_loss', patience=10, restore_best_weights=True)"
   ]
  },
  {
   "cell_type": "code",
   "execution_count": 238,
   "id": "a7c0f46c",
   "metadata": {},
   "outputs": [
    {
     "name": "stdout",
     "output_type": "stream",
     "text": [
      "Epoch 1/60\n",
      "3/3 [==============================] - 0s 33ms/step - loss: 0.5841 - mean_absolute_error: 0.5999 - val_loss: 0.7317 - val_mean_absolute_error: 0.6537\n",
      "Epoch 2/60\n",
      "3/3 [==============================] - 0s 16ms/step - loss: 0.6013 - mean_absolute_error: 0.5990 - val_loss: 0.7318 - val_mean_absolute_error: 0.6539\n",
      "Epoch 3/60\n",
      "3/3 [==============================] - 0s 16ms/step - loss: 0.5891 - mean_absolute_error: 0.6106 - val_loss: 0.7321 - val_mean_absolute_error: 0.6539\n",
      "Epoch 4/60\n",
      "3/3 [==============================] - 0s 16ms/step - loss: 0.5848 - mean_absolute_error: 0.6060 - val_loss: 0.7324 - val_mean_absolute_error: 0.6541\n",
      "Epoch 5/60\n",
      "3/3 [==============================] - 0s 10ms/step - loss: 0.5510 - mean_absolute_error: 0.5806 - val_loss: 0.7322 - val_mean_absolute_error: 0.6540\n",
      "Epoch 6/60\n",
      "3/3 [==============================] - 0s 17ms/step - loss: 0.5649 - mean_absolute_error: 0.5890 - val_loss: 0.7319 - val_mean_absolute_error: 0.6540\n",
      "Epoch 7/60\n",
      "3/3 [==============================] - 0s 20ms/step - loss: 0.5833 - mean_absolute_error: 0.6085 - val_loss: 0.7311 - val_mean_absolute_error: 0.6535\n",
      "Epoch 8/60\n",
      "3/3 [==============================] - 0s 18ms/step - loss: 0.5612 - mean_absolute_error: 0.5841 - val_loss: 0.7303 - val_mean_absolute_error: 0.6527\n",
      "Epoch 9/60\n",
      "3/3 [==============================] - 0s 10ms/step - loss: 0.6553 - mean_absolute_error: 0.6038 - val_loss: 0.7307 - val_mean_absolute_error: 0.6532\n",
      "Epoch 10/60\n",
      "3/3 [==============================] - 0s 17ms/step - loss: 0.5801 - mean_absolute_error: 0.5945 - val_loss: 0.7321 - val_mean_absolute_error: 0.6548\n",
      "Epoch 11/60\n",
      "3/3 [==============================] - 0s 18ms/step - loss: 0.5879 - mean_absolute_error: 0.5994 - val_loss: 0.7332 - val_mean_absolute_error: 0.6556\n",
      "Epoch 12/60\n",
      "3/3 [==============================] - 0s 16ms/step - loss: 0.5973 - mean_absolute_error: 0.6025 - val_loss: 0.7341 - val_mean_absolute_error: 0.6562\n",
      "Epoch 13/60\n",
      "3/3 [==============================] - 0s 16ms/step - loss: 0.5502 - mean_absolute_error: 0.5678 - val_loss: 0.7349 - val_mean_absolute_error: 0.6567\n",
      "Epoch 14/60\n",
      "3/3 [==============================] - 0s 15ms/step - loss: 0.5645 - mean_absolute_error: 0.5832 - val_loss: 0.7350 - val_mean_absolute_error: 0.6567\n",
      "Epoch 15/60\n",
      "3/3 [==============================] - 0s 16ms/step - loss: 0.6100 - mean_absolute_error: 0.6125 - val_loss: 0.7352 - val_mean_absolute_error: 0.6567\n",
      "Epoch 16/60\n",
      "3/3 [==============================] - 0s 16ms/step - loss: 0.5925 - mean_absolute_error: 0.6156 - val_loss: 0.7356 - val_mean_absolute_error: 0.6573\n",
      "Epoch 17/60\n",
      "3/3 [==============================] - 0s 10ms/step - loss: 0.5574 - mean_absolute_error: 0.5681 - val_loss: 0.7356 - val_mean_absolute_error: 0.6575\n",
      "Epoch 18/60\n",
      "3/3 [==============================] - 0s 24ms/step - loss: 0.5519 - mean_absolute_error: 0.5657 - val_loss: 0.7354 - val_mean_absolute_error: 0.6572\n"
     ]
    }
   ],
   "source": [
    "# Train the model\n",
    "history = model.fit(X_train_scaled, y_train, \n",
    "                    validation_data=(X_test_scaled, y_test), \n",
    "                    epochs=60, \n",
    "                    batch_size=32, \n",
    "                    verbose=1, \n",
    "                    callbacks=[early_stopping])"
   ]
  },
  {
   "cell_type": "code",
   "execution_count": 234,
   "id": "34b4f39d",
   "metadata": {},
   "outputs": [
    {
     "name": "stdout",
     "output_type": "stream",
     "text": [
      "3/3 [==============================] - 0s 2ms/step\n",
      "1/1 [==============================] - 0s 18ms/step\n"
     ]
    }
   ],
   "source": [
    "# Evaluate the model and make predictions\n",
    "y_train_pred = model.predict(X_train_scaled)\n",
    "y_test_pred = model.predict(X_test_scaled)"
   ]
  },
  {
   "cell_type": "code",
   "execution_count": 235,
   "id": "b7f1e74d",
   "metadata": {},
   "outputs": [
    {
     "name": "stdout",
     "output_type": "stream",
     "text": [
      "Training R² Score: 0.3884\n",
      "Training MAE: 0.5502\n",
      "Training MSE: 0.5299\n"
     ]
    }
   ],
   "source": [
    "# Calculate performance metrics\n",
    "train_r2 = r2_score(y_train, y_train_pred)\n",
    "train_mae = mean_absolute_error(y_train, y_train_pred)\n",
    "train_mse = mean_squared_error(y_train, y_train_pred)\n",
    "\n",
    "# Print the performance metrics\n",
    "print(f\"Training R² Score: {train_r2:.4f}\")\n",
    "print(f\"Training MAE: {train_mae:.4f}\")\n",
    "print(f\"Training MSE: {train_mse:.4f}\")\n"
   ]
  },
  {
   "cell_type": "code",
   "execution_count": 236,
   "id": "9fbaefcb",
   "metadata": {},
   "outputs": [
    {
     "name": "stdout",
     "output_type": "stream",
     "text": [
      "Testing R² Score: 0.3655\n",
      "Testing MAE: 0.6541\n",
      "Testing MSE: 0.7353\n"
     ]
    }
   ],
   "source": [
    "test_r2 = r2_score(y_test, y_test_pred)\n",
    "test_mae = mean_absolute_error(y_test, y_test_pred)\n",
    "test_mse = mean_squared_error(y_test, y_test_pred)\n",
    "\n",
    "print(f\"Testing R² Score: {test_r2:.4f}\")\n",
    "print(f\"Testing MAE: {test_mae:.4f}\")\n",
    "print(f\"Testing MSE: {test_mse:.4f}\")"
   ]
  },
  {
   "cell_type": "code",
   "execution_count": 165,
   "id": "39a95ecc",
   "metadata": {},
   "outputs": [
    {
     "data": {
      "image/png": "[encoded data removed]",
      "text/plain": [
       "<Figure size 640x480 with 1 Axes>"
      ]
     },
     "metadata": {},
     "output_type": "display_data"
    }
   ],
   "source": [
    "import matplotlib.pyplot as plt\n",
    "plt.plot(history.history['loss'], label='Train Loss')\n",
    "plt.plot(history.history['val_loss'], label='Test Loss')\n",
    "plt.title('Model Loss')\n",
    "plt.ylabel('Loss')\n",
    "plt.xlabel('Epoch')\n",
    "plt.legend(loc='upper right')\n",
    "plt.show()"
   ]
  },
  {
   "cell_type": "code",
   "execution_count": null,
   "id": "56bea582",
   "metadata": {},
   "outputs": [],
   "source": []
  }
 ],
 "metadata": {
  "kernelspec": {
   "display_name": "Python 3 (ipykernel)",
   "language": "python",
   "name": "python3"
  },
  "language_info": {
   "codemirror_mode": {
    "name": "ipython",
    "version": 3
   },
   "file_extension": ".py",
   "mimetype": "text/x-python",
   "name": "python",
   "nbconvert_exporter": "python",
   "pygments_lexer": "ipython3",
   "version": "3.11.3"
  }
 },
 "nbformat": 4,
 "nbformat_minor": 5
}
